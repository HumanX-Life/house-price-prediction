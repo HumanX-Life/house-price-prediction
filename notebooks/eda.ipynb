{
 "cells": [
  {
   "cell_type": "markdown",
   "metadata": {},
   "source": [
    "# Exploratory Data Analysis"
   ]
  },
  {
   "cell_type": "code",
   "execution_count": null,
   "metadata": {},
   "outputs": [],
   "source": [
    "import matplotlib.pyplot as plt\n",
    "import pandas as pd\n",
    "import seaborn as sns"
   ]
  },
  {
   "cell_type": "code",
   "execution_count": null,
   "metadata": {},
   "outputs": [],
   "source": [
    "df = pd.read_csv('../data/housing.csv')\n",
    "\n",
    "df.head()"
   ]
  },
  {
   "cell_type": "code",
   "execution_count": null,
   "metadata": {},
   "outputs": [],
   "source": [
    "df = df.drop(columns=['id'], axis=1)\n",
    "print(df.shape) # Confirm your dataset has 20 columns"
   ]
  },
  {
   "cell_type": "code",
   "execution_count": null,
   "metadata": {},
   "outputs": [],
   "source": [
    "plt.figure(figsize=(10, 6))\n",
    "\n",
    "sns.histplot(df['price'], bins=50, kde=True)\n",
    "\n",
    "plt.title('Distibution of House Prices')\n",
    "plt.xlabel('Price')\n",
    "plt.ylabel('Count')\n",
    "\n",
    "plt.savefig('../images/price_distribution.jpg', dpi=300, format='jpg')\n",
    "\n",
    "plt.show()\n"
   ]
  },
  {
   "cell_type": "code",
   "execution_count": null,
   "metadata": {},
   "outputs": [],
   "source": [
    "plt.figure(figsize=(8, 4))\n",
    "\n",
    "sns.boxplot(x=df['price'], width=0.3)\n",
    "\n",
    "plt.title('Boxplot of House Prices')\n",
    "plt.xlabel('Price')\n",
    "\n",
    "plt.savefig('../images/price_boxplot.jpg', dpi=300, format='jpg')\n",
    "\n",
    "plt.show()"
   ]
  },
  {
   "cell_type": "code",
   "execution_count": null,
   "metadata": {},
   "outputs": [],
   "source": [
    "plt.figure(figsize=(8, 4))\n",
    "\n",
    "sns.countplot(data=df, x='bedrooms')\n",
    "\n",
    "plt.title('Distribution of Bedrooms')\n",
    "plt.xlabel('Number of Bedrooms')\n",
    "plt.ylabel('Count')\n",
    "\n",
    "plt.savefig('../images/bedrooms_distribution.jpg', dpi=300, format='jpg')\n",
    "\n",
    "plt.show()"
   ]
  },
  {
   "cell_type": "code",
   "execution_count": null,
   "metadata": {},
   "outputs": [],
   "source": [
    "plt.figure(figsize=(12, 10))\n",
    "\n",
    "corr = df.corr(numeric_only=True)\n",
    "\n",
    "sns.heatmap(corr[['price']].sort_values(by='price', ascending=False), annot=True, cmap='coolwarm')\n",
    "\n",
    "plt.title('Correlation of Features with Price')\n",
    "\n",
    "plt.savefig('../images/correlation_heatmap.jpg', dpi=300, format='jpg')\n",
    "\n",
    "plt.show()"
   ]
  },
  {
   "cell_type": "code",
   "execution_count": null,
   "metadata": {},
   "outputs": [],
   "source": [
    "plt.figure(figsize=(10,6))\n",
    "\n",
    "sns.boxplot(data=df, x='condition', y='price', width=0.3)\n",
    "\n",
    "plt.title('Price by Condition')\n",
    "plt.xlabel('Condition')\n",
    "plt.ylabel('Price')\n",
    "\n",
    "plt.savefig('../images/price_by_condition.jpg', dpi=300, format='jpg')\n",
    "\n",
    "plt.show()"
   ]
  }
 ],
 "metadata": {
  "kernelspec": {
   "display_name": "venv",
   "language": "python",
   "name": "python3"
  },
  "language_info": {
   "name": "python",
   "version": "3.11.5"
  }
 },
 "nbformat": 4,
 "nbformat_minor": 2
}
